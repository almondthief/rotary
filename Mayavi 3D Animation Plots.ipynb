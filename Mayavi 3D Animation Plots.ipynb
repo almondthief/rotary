{
 "cells": [
  {
   "cell_type": "code",
   "execution_count": 1,
   "id": "cfe62cd7",
   "metadata": {},
   "outputs": [
    {
     "name": "stdout",
     "output_type": "stream",
     "text": [
      "Notebook initialized with x3d backend.\n"
     ]
    }
   ],
   "source": [
    "import numpy as np\n",
    "import pandas as pd\n",
    "from scipy.linalg import norm\n",
    "import glob\n",
    "import moviepy.editor as mpy\n",
    "from mayavi import mlab\n",
    "\n",
    "# Figure Options\n",
    "mlab.init_notebook(width=700, height=700, backend = \"x3d\")\n",
    "mlab.options.offscreen = True"
   ]
  },
  {
   "cell_type": "markdown",
   "id": "b0230398",
   "metadata": {},
   "source": [
    "# Importing Data"
   ]
  },
  {
   "cell_type": "code",
   "execution_count": 2,
   "id": "096b7e96",
   "metadata": {},
   "outputs": [],
   "source": [
    "dynamic_data= pd.read_csv(\"dynamic_results.csv\")\n",
    "result_length = int(max(dynamic_data.time)/0.025 + 1)\n",
    "dynamic_grouped_time = dynamic_data.groupby('time')"
   ]
  },
  {
   "cell_type": "code",
   "execution_count": 3,
   "id": "a8a96c1a",
   "metadata": {},
   "outputs": [],
   "source": [
    "# seperate runs \n",
    "dynamic_results_1 = dynamic_data.loc[0*result_length:1*result_length - 1]\n",
    "dynamic_results_2 = dynamic_data.loc[1*result_length:2*result_length - 1]\n",
    "dynamic_results_3 = dynamic_data.loc[2*result_length:3*result_length - 1]\n",
    "dynamic_results_4 = dynamic_data.loc[3*result_length:4*result_length - 1]\n",
    "dynamic_results_5 = dynamic_data.loc[4*result_length:5*result_length - 1]\n",
    "\n",
    "# replace indexs\n",
    "new_index = pd.Series(np.linspace(0, result_length-1, result_length), dtype = np.int32)\n",
    "\n",
    "dynamic_results_1 = dynamic_results_1.set_index(new_index)\n",
    "dynamic_results_2 = dynamic_results_2.set_index(new_index)\n",
    "dynamic_results_3 = dynamic_results_3.set_index(new_index)\n",
    "dynamic_results_4 = dynamic_results_4.set_index(new_index)\n",
    "dynamic_results_5 = dynamic_results_5.set_index(new_index)"
   ]
  },
  {
   "cell_type": "markdown",
   "id": "0c93419d",
   "metadata": {},
   "source": [
    "Selecting run to visulise:"
   ]
  },
  {
   "cell_type": "code",
   "execution_count": 4,
   "id": "33f1f302",
   "metadata": {},
   "outputs": [],
   "source": [
    "sim_results = dynamic_results_1"
   ]
  },
  {
   "cell_type": "markdown",
   "id": "0698ffad",
   "metadata": {},
   "source": [
    "# Functions for Visualisation"
   ]
  },
  {
   "cell_type": "code",
   "execution_count": 5,
   "id": "9bfdb7f6",
   "metadata": {},
   "outputs": [],
   "source": [
    "# System Parameters - from user guide\n",
    "Lr = 0.085      # m - rotary arm length\n",
    "Lp = 0.129      # m - pendulum length"
   ]
  },
  {
   "cell_type": "code",
   "execution_count": 6,
   "id": "b12a7575",
   "metadata": {},
   "outputs": [],
   "source": [
    "def cylinder_plot(start_pos, end_pos, radius):\n",
    "\n",
    "    #vector in direction of axis\n",
    "    v = end_pos - start_pos\n",
    "\n",
    "    #find magnitude of vector\n",
    "    mag = norm(v)\n",
    "\n",
    "    #unit vector in direction of axis\n",
    "    v = v / mag\n",
    "\n",
    "    #make some vector not in the same direction as v\n",
    "    not_v = np.array([1, 0, 0])\n",
    "    if (v == not_v).all():\n",
    "        not_v = np.array([0, 1, 0])\n",
    "\n",
    "    #make vector perpendicular to v\n",
    "    n1 = np.cross(v, not_v)\n",
    "    #normalize n1\n",
    "    n1 /= norm(n1)\n",
    "\n",
    "    #make unit vector perpendicular to v and n1\n",
    "    n2 = np.cross(v, n1)\n",
    "\n",
    "    #surface ranges over t from 0 to length of axis and 0 to 2*pi\n",
    "    t = np.linspace(0, mag, 2)\n",
    "    theta = np.linspace(0, 2 * np.pi, 100)\n",
    "    rsample = np.linspace(0, radius, 50)\n",
    "\n",
    "    #use meshgrid to make 2d arrays\n",
    "    t, theta2 = np.meshgrid(t, theta)\n",
    "\n",
    "    rsample,theta = np.meshgrid(rsample, theta)\n",
    "\n",
    "    #generate coordinates for surface\n",
    "    # \"Tube\"\n",
    "    tube = [start_pos[i] + v[i] * t + radius * np.sin(theta2) * n1[i] + radius * np.cos(theta2) *       n2[i] for i in [0, 1, 2]]\n",
    "    # \"Bottom\"\n",
    "    bottom = [start_pos[i] + rsample[i] * np.sin(theta) * n1[i] + rsample[i] * np.cos(theta) * n2[i] for i in [0, 1, 2]]\n",
    "    # \"Top\"\n",
    "    top = [start_pos[i] + v[i]*mag + rsample[i] * np.sin(theta) * n1[i] + rsample[i] * np.cos(theta) * n2[i] for i in [0, 1, 2]]\n",
    "\n",
    "    return tube, bottom, top"
   ]
  },
  {
   "cell_type": "code",
   "execution_count": 7,
   "id": "16c00159",
   "metadata": {},
   "outputs": [],
   "source": [
    "def pendulum_sim_plot(theta, alpha, file_name):\n",
    "    \n",
    "    # Base Object\n",
    "    base_arm_height = 0.015\n",
    "    base_p0 = np.array([0, 0, 0])\n",
    "    base_p1 = np.array([0, 0, base_arm_height])\n",
    "    base_r  = 0.015\n",
    "    base_c, base_b, base_t = cylinder_plot(base_p0, base_p1, base_r)\n",
    "\n",
    "    # Rotational Arm\n",
    "    arm_p0 = np.array([0, 0, base_arm_height/2])\n",
    "    arm_p1 = np.array([Lr*np.cos(theta), Lr*np.sin(theta), base_arm_height/2])\n",
    "    arm_r  = 0.005\n",
    "    arm_c, arm_b, arm_t = cylinder_plot(arm_p0, arm_p1, arm_r)\n",
    "\n",
    "    # Pendulum Arm\n",
    "    pend_p0 = np.array([Lr*np.cos(theta)*(1-0.005), Lr*np.sin(theta)*(1-0.005), base_arm_height/2])\n",
    "    pend_p1 = pend_p0 + np.array([-Lp*np.sin(theta)*np.sin(alpha), Lp*np.cos(theta)*np.sin(alpha), Lp*np.cos(alpha)-0.02])\n",
    "    pend_r  = 0.003\n",
    "    pend_c, pend_b, pend_t = cylinder_plot(pend_p0, pend_p1, pend_r)\n",
    "    \n",
    "    # Plotting\n",
    "    fig = mlab.figure(bgcolor=(1, 1, 1), fgcolor=(0.5, 0.5, 0.5))\n",
    "    mlab.clf()\n",
    "\n",
    "    # Plot Arm\n",
    "    mlab.mesh(arm_c[0], arm_c[1], arm_c[2], color = (0.5,0.5,0.5))\n",
    "    mlab.mesh(arm_b[0], arm_b[1], arm_b[2], color = (0.5,0.5,0.5))\n",
    "    mlab.mesh(arm_t[0], arm_t[1], arm_t[2], color = (0.5,0.5,0.5))\n",
    "\n",
    "    # Plot Base\n",
    "    mlab.mesh(base_c[0], base_c[1], base_c[2], color = (0.2,0.2,0.2))\n",
    "    mlab.mesh(base_b[0], base_b[1], base_b[2], color = (0.2,0.2,0.2))\n",
    "    mlab.mesh(base_t[0], base_t[1], base_t[2], color = (0.2,0.2,0.2))\n",
    "\n",
    "    # Plot Pendulum\n",
    "    mlab.mesh(pend_c[0], pend_c[1], pend_c[2], color = (0.8,0.2,0))\n",
    "    mlab.mesh(pend_b[0], pend_b[1], pend_b[2], color = (0.8,0.2,0))\n",
    "    mlab.mesh(pend_t[0], pend_t[1], pend_t[2], color = (0.8,0.2,0))\n",
    "    \n",
    "    mlab.view(60, 60, 0.6, focalpoint=(0,0,0))\n",
    "    \n",
    "    # Save File\n",
    "    mlab.savefig(f'animation/{file_name}.png')\n",
    "    \n",
    "    return\n"
   ]
  },
  {
   "cell_type": "markdown",
   "id": "80ab8b4b",
   "metadata": {},
   "source": [
    "# Creating Animation File"
   ]
  },
  {
   "cell_type": "markdown",
   "id": "54dc730b",
   "metadata": {},
   "source": [
    "Sometimes it doesn't complete the entire range in one go so I just adjust the numbers to what the last image generated is, not sure if theres an implementation problem or if my computer is too slow ????"
   ]
  },
  {
   "cell_type": "code",
   "execution_count": 8,
   "id": "971090a1",
   "metadata": {},
   "outputs": [],
   "source": [
    "for i in range(170, len(sim_results)):\n",
    "    pendulum_sim_plot(sim_results.theta[i], sim_results.alpha[i], f'anim_{i}')"
   ]
  },
  {
   "cell_type": "code",
   "execution_count": 9,
   "id": "95549880",
   "metadata": {},
   "outputs": [
    {
     "name": "stdout",
     "output_type": "stream",
     "text": [
      "Moviepy - Building video animation/simulationAnimation.mp4.\n",
      "Moviepy - Writing video animation/simulationAnimation.mp4\n",
      "\n"
     ]
    },
    {
     "name": "stderr",
     "output_type": "stream",
     "text": [
      "t:   3%|█                            | 7/202 [00:00<00:02, 69.30it/s, now=None]"
     ]
    },
    {
     "name": "stdout",
     "output_type": "stream",
     "text": [
      "Moviepy - Done !\n",
      "Moviepy - video ready animation/simulationAnimation.mp4\n",
      "MoviePy - Building file animation/simulationAnimation.gif with imageio.\n"
     ]
    },
    {
     "name": "stderr",
     "output_type": "stream",
     "text": [
      "                                                                               \r"
     ]
    }
   ],
   "source": [
    "file_name = 'simulationAnimation'\n",
    "fps = 40\n",
    "file_list = glob.glob('animation/*.png')\n",
    "list.sort(file_list, key=lambda x: int(x.split('_')[1].split('.png')[0]))\n",
    "clip = mpy.ImageSequenceClip(file_list, fps=fps)\n",
    "clip.set_duration(5).write_videofile('animation/{}.mp4'.format(file_name))\n",
    "clip.write_gif('animation/{}.gif'.format(file_name), fps=fps)"
   ]
  }
 ],
 "metadata": {
  "kernelspec": {
   "display_name": "Python 3",
   "language": "python",
   "name": "python3"
  },
  "language_info": {
   "codemirror_mode": {
    "name": "ipython",
    "version": 3
   },
   "file_extension": ".py",
   "mimetype": "text/x-python",
   "name": "python",
   "nbconvert_exporter": "python",
   "pygments_lexer": "ipython3",
   "version": "3.8.8"
  }
 },
 "nbformat": 4,
 "nbformat_minor": 5
}
